{
 "cells": [
  {
   "cell_type": "markdown",
   "metadata": {
    "id": "UWQLz7t05RyZ"
   },
   "source": [
    "# MODELO C - DATASET GRANDE - NO ILUMINACION"
   ]
  },
  {
   "cell_type": "markdown",
   "metadata": {
    "id": "It2zwqC35Vga"
   },
   "source": [
    "Declaramos las librerias a usar\n",
    "\n",
    "We Declare the libraries to use "
   ]
  },
  {
   "cell_type": "code",
   "execution_count": 1,
   "metadata": {
    "id": "Xx0nwRpb44xC"
   },
   "outputs": [],
   "source": [
    "import os\n",
    "import zipfile\n",
    "import tensorflow as tf\n",
    "import keras\n",
    "import gdown\n",
    "import zipfile\n",
    "import tensorflow as tf\n",
    "import keras_preprocessing\n",
    "import matplotlib.pyplot as plt\n",
    "import pandas as pd\n",
    "import seaborn as sns\n",
    "import numpy as np\n",
    "\n",
    "from tensorflow.keras.optimizers import RMSprop\n",
    "from tensorflow.keras.preprocessing.image import ImageDataGenerator\n",
    "from tensorflow.keras import layers\n",
    "from tensorflow.keras import Model\n",
    "from keras_preprocessing import image\n",
    "from keras_preprocessing.image import ImageDataGenerator\n",
    "from sklearn.metrics import classification_report\n",
    "from sklearn.metrics import confusion_matrix\n",
    "from os.path import exists"
   ]
  },
  {
   "cell_type": "markdown",
   "metadata": {
    "id": "tgV-l0mT6fmn"
   },
   "source": [
    "Descargamos nuestro dataset de google drive a nuestra carpeta temporal:  \"/tmp/vehdata\"\n",
    "\n",
    "Download our dataset from google drive and store it on our local machine on the address: \"/tmp/vehdata\""
   ]
  },
  {
   "cell_type": "code",
   "execution_count": 2,
   "metadata": {
    "colab": {
     "base_uri": "https://localhost:8080/"
    },
    "id": "idJe5DzN6b3w",
    "outputId": "b72e7b92-edbc-4cd2-80dc-5a4debf51acf"
   },
   "outputs": [],
   "source": [
    "#Checamos si existe un folder con nuestro conjunto de datos en nuestra carpeta temporal, si no entonces creamos uno \n",
    "#Check if the folder for our data set exist, if not we create the folder \n",
    "if not os.path.exists('/tmp/LD'):\n",
    "    os.mkdir('/tmp/LD')\n",
    "\n",
    "#Si ya descargamos el archivo .zip, no es necesario bajarlo de nuevo y omitimos este paso \n",
    "#if we already downloaded the zip file, this step will be omited \n",
    "if  exists('/tmp/LD/vehdata_full') == False : \n",
    "\n",
    "    #Descargamos nuestro dataset \n",
    "    #Download Dataset \n",
    "    url = 'https://drive.google.com/uc?id=1kQEtwys5dz5Sl11zUcy05bqJcBceTJyA'\n",
    "    output = '/tmp/LD/vehdata.zip'\n",
    "    gdown.download(url, output, quiet=False)\n",
    "\n",
    "    #Descomprimiendo el archivo comprimido \n",
    "    #Unzipping the zip file \n",
    "    local_zip = '/tmp/LD/vehdata.zip'\n",
    "    zip_ref = zipfile.ZipFile(local_zip, 'r')\n",
    "    zip_ref.extractall('/tmp/LD')\n",
    "    zip_ref.close()\n",
    "\n",
    "\n",
    "\n",
    "\n"
   ]
  },
  {
   "cell_type": "markdown",
   "metadata": {
    "id": "ffZoZ81N6spB"
   },
   "source": [
    "Creamos los directorios de nuestro conjunto de datos \n",
    "\n",
    "Specify our training and validation folders "
   ]
  },
  {
   "cell_type": "code",
   "execution_count": 3,
   "metadata": {
    "id": "eCbjPUGX5Q7e"
   },
   "outputs": [],
   "source": [
    "\n",
    "\n",
    "base_dir = '/tmp/LD/vehdata_full'\n",
    "train_dir = os.path.join(base_dir, 'train')\n",
    "validation_dir = os.path.join(base_dir, 'validation')\n",
    "\n",
    "# Directorio para las imagenes de entrenamiento SIN infantes\n",
    "# Directory with our training pictures WITH NO infants \n",
    "train_empty_dir = os.path.join(train_dir, 'empty')\n",
    "\n",
    "# Directorio para las imagenes de entrenamiento CON infantes\n",
    "# Directory with our training WITH infants in the car\n",
    "train_infant_dir = os.path.join(train_dir, 'infant')\n",
    "\n",
    "# Directorio para las imagenes de validacion SIN infantes\n",
    "# Directory with our validation WITH NO infants\n",
    "validation_empty_dir = os.path.join(validation_dir, 'empty')\n",
    "\n",
    "# Directorio para las imagenes de validacion CON infantes\n",
    "# Directory with our validation WITH infants in the car\n",
    "validation_infant_dir = os.path.join(validation_dir, 'infant')"
   ]
  },
  {
   "cell_type": "markdown",
   "metadata": {},
   "source": [
    "Utilizamos tecnicas de aumento de datos, para crear mas imagenes de entrenamiento y mejorar nuestra red convolucional\n",
    "\n",
    "We use data aumentation to increase the size of our training data set, which would improve our convolutional neural network"
   ]
  },
  {
   "cell_type": "code",
   "execution_count": 4,
   "metadata": {},
   "outputs": [
    {
     "name": "stdout",
     "output_type": "stream",
     "text": [
      "Found 6202 images belonging to 2 classes.\n",
      "Found 798 images belonging to 2 classes.\n"
     ]
    }
   ],
   "source": [
    "\n",
    "\n",
    "TRAINING_DIR = \"/tmp/LD/vehdata_full/train/\"\n",
    "train_datagen = ImageDataGenerator(\n",
    "      rescale = 1./255)\n",
    "#\trotation_range=40,\n",
    "#      width_shift_range=0.2,\n",
    "#      height_shift_range=0.2,\n",
    "#      shear_range=0.2,\n",
    "#      zoom_range=0.2,\n",
    "#      horizontal_flip=True,\n",
    "#      fill_mode='nearest')\n",
    "\n",
    "VALIDATION_DIR = \"/tmp/LD/vehdata_full/validation/\"\n",
    "validation_datagen = ImageDataGenerator(rescale = 1./255)\n",
    "\n",
    "# Imagenes de entrenamiento en grupos de 20 usando el generador train_datagen \n",
    "# Training images in batches of 20 using train_datagen generator\n",
    "train_generator = train_datagen.flow_from_directory(train_dir,\n",
    "                                                    batch_size = 20,\n",
    "                                                    class_mode = 'binary', \n",
    "                                                    target_size = (150, 150))     \n",
    "\n",
    "# Imagenes de validacion en grupos de 20 usando el generador validation_datagen \n",
    "# Validation images in batches of 20 using validation_datagen generator\n",
    "validation_generator =  validation_datagen.flow_from_directory( validation_dir,\n",
    "                                                          batch_size  = 20,\n",
    "                                                          class_mode  = 'binary', \n",
    "                                                          target_size = (150, 150))"
   ]
  },
  {
   "cell_type": "markdown",
   "metadata": {},
   "source": [
    "Creamos el modelo de la red neuronal con 4 capaz convolucionales y una capa oculta.\n",
    "\n",
    "Define a CNN model with 4 convolutional layers and 1 hiden layer. "
   ]
  },
  {
   "cell_type": "code",
   "execution_count": 5,
   "metadata": {},
   "outputs": [
    {
     "name": "stdout",
     "output_type": "stream",
     "text": [
      "Metal device set to: Apple M1 Max\n",
      "\n",
      "systemMemory: 32.00 GB\n",
      "maxCacheSize: 10.67 GB\n",
      "\n"
     ]
    },
    {
     "name": "stderr",
     "output_type": "stream",
     "text": [
      "2022-11-27 19:51:43.335450: I tensorflow/core/common_runtime/pluggable_device/pluggable_device_factory.cc:306] Could not identify NUMA node of platform GPU ID 0, defaulting to 0. Your kernel may not have been built with NUMA support.\n",
      "2022-11-27 19:51:43.335766: I tensorflow/core/common_runtime/pluggable_device/pluggable_device_factory.cc:272] Created TensorFlow device (/job:localhost/replica:0/task:0/device:GPU:0 with 0 MB memory) -> physical PluggableDevice (device: 0, name: METAL, pci bus id: <undefined>)\n"
     ]
    }
   ],
   "source": [
    "model = tf.keras.models.Sequential([\n",
    "    # Primera convolucion\n",
    "    # Note the input shape is the desired size of the image 150x150 with 3 bytes color\n",
    "    # This is the first convolution\n",
    "    tf.keras.layers.Conv2D(64, (3,3), activation='relu', input_shape=(150, 150, 3)),\n",
    "    tf.keras.layers.MaxPooling2D(2, 2),\n",
    "    # Segunda convolucion\n",
    "    # The second convolution\n",
    "    tf.keras.layers.Conv2D(64, (3,3), activation='relu'),\n",
    "    tf.keras.layers.MaxPooling2D(2,2),\n",
    "    # Tercera convolucion\n",
    "    # The third convolution\n",
    "    tf.keras.layers.Conv2D(128, (3,3), activation='relu'),\n",
    "    tf.keras.layers.MaxPooling2D(2,2),\n",
    "    # Cuarta convolucion\n",
    "    # The fourth convolution\n",
    "    tf.keras.layers.Conv2D(128, (3,3), activation='relu'),\n",
    "    tf.keras.layers.MaxPooling2D(2,2),\n",
    "    # capa flatten \n",
    "    # Flatten the results to feed into a DNN\n",
    "    tf.keras.layers.Flatten(),\n",
    "    tf.keras.layers.Dropout(0.5),\n",
    "    #capa oculta con 512 neuronas\n",
    "    # 512 neuron hidden layer\n",
    "    tf.keras.layers.Dense(512, activation='relu'),\n",
    "    tf.keras.layers.Dense(1, activation='sigmoid')\n",
    "\n",
    "\n",
    "\n",
    "])"
   ]
  },
  {
   "cell_type": "markdown",
   "metadata": {},
   "source": [
    "Creamos a \"callback\" para parar el entrenamiento de nuestra red neuronal cuando alcanzemos un determinado valor de precision. \n",
    "\n",
    "Declare a callback so we can stop training whenever we hit 95% of accuracy in our training data"
   ]
  },
  {
   "cell_type": "code",
   "execution_count": 6,
   "metadata": {},
   "outputs": [],
   "source": [
    "\n",
    "class myCallback(tf.keras.callbacks.Callback):\n",
    "  def on_epoch_end(self, epoch, logs={}):\n",
    "    # Seleccionamos la metrica que nos interesa, en este caso precision y \n",
    "    # establecemos el minimo acceptable que para este caso es 95%.\n",
    "    # Select the metric we want to measure, on this escenario accuracy and \n",
    "    # indicate that we will be stoping training once we reach 95%.\n",
    "    if(logs.get('accuracy')>0.95):\n",
    "      print(\"\\nReached 95% accuracy so cancelling training!\")\n",
    "      self.model.stop_training = True"
   ]
  },
  {
   "cell_type": "markdown",
   "metadata": {},
   "source": [
    "Empezamos el entrenamiento de nuestra red neuronal \n",
    "\n",
    "Compile our CNN to start training "
   ]
  },
  {
   "cell_type": "code",
   "execution_count": 7,
   "metadata": {},
   "outputs": [
    {
     "name": "stdout",
     "output_type": "stream",
     "text": [
      "Epoch 1/100\n"
     ]
    },
    {
     "name": "stderr",
     "output_type": "stream",
     "text": [
      "2022-11-27 19:51:44.276782: W tensorflow/core/platform/profile_utils/cpu_utils.cc:128] Failed to get CPU frequency: 0 Hz\n",
      "2022-11-27 19:51:44.595514: I tensorflow/core/grappler/optimizers/custom_graph_optimizer_registry.cc:114] Plugin optimizer for device_type GPU is enabled.\n",
      "2022-11-27 19:52:16.471020: I tensorflow/core/grappler/optimizers/custom_graph_optimizer_registry.cc:114] Plugin optimizer for device_type GPU is enabled.\n"
     ]
    },
    {
     "name": "stdout",
     "output_type": "stream",
     "text": [
      "50/50 - 34s - loss: 0.6923 - accuracy: 0.5290 - val_loss: 0.6338 - val_accuracy: 0.6750 - 34s/epoch - 683ms/step\n",
      "Epoch 2/100\n",
      "50/50 - 35s - loss: 0.6958 - accuracy: 0.5330 - val_loss: 0.6186 - val_accuracy: 0.8000 - 35s/epoch - 698ms/step\n",
      "Epoch 3/100\n",
      "50/50 - 35s - loss: 0.6407 - accuracy: 0.6660 - val_loss: 0.5504 - val_accuracy: 0.7000 - 35s/epoch - 698ms/step\n",
      "Epoch 4/100\n",
      "50/50 - 35s - loss: 0.5620 - accuracy: 0.7400 - val_loss: 0.4953 - val_accuracy: 0.7250 - 35s/epoch - 701ms/step\n",
      "Epoch 5/100\n",
      "50/50 - 35s - loss: 0.5024 - accuracy: 0.7540 - val_loss: 0.4303 - val_accuracy: 0.8250 - 35s/epoch - 699ms/step\n",
      "Epoch 6/100\n",
      "50/50 - 36s - loss: 0.3412 - accuracy: 0.8510 - val_loss: 0.2513 - val_accuracy: 0.9000 - 36s/epoch - 716ms/step\n",
      "Epoch 7/100\n",
      "50/50 - 35s - loss: 0.2867 - accuracy: 0.8770 - val_loss: 0.1745 - val_accuracy: 0.9250 - 35s/epoch - 702ms/step\n",
      "Epoch 8/100\n",
      "50/50 - 36s - loss: 0.2209 - accuracy: 0.9130 - val_loss: 0.2623 - val_accuracy: 0.8500 - 36s/epoch - 724ms/step\n",
      "Epoch 9/100\n",
      "50/50 - 37s - loss: 0.1704 - accuracy: 0.9340 - val_loss: 0.3044 - val_accuracy: 0.9250 - 37s/epoch - 737ms/step\n",
      "Epoch 10/100\n",
      "50/50 - 35s - loss: 0.1798 - accuracy: 0.9399 - val_loss: 0.1272 - val_accuracy: 0.9500 - 35s/epoch - 690ms/step\n",
      "Epoch 11/100\n",
      "50/50 - 31s - loss: 0.1910 - accuracy: 0.9200 - val_loss: 0.2156 - val_accuracy: 0.8750 - 31s/epoch - 623ms/step\n",
      "Epoch 12/100\n",
      "\n",
      "Reached 95% accuracy so cancelling training!\n",
      "50/50 - 28s - loss: 0.1190 - accuracy: 0.9560 - val_loss: 0.3559 - val_accuracy: 0.7750 - 28s/epoch - 550ms/step\n"
     ]
    }
   ],
   "source": [
    "# Seleccionamos funcion de perdida, ya que nuestro modelo es de 2 clases, \n",
    "# binary_crossentropy es usada para este typor de problemas.\n",
    "# Segundo seleccionamos el optimizador que evaluara la prediccion y perdida \n",
    "# para asi optimizar nuestros pesos.\n",
    "# We Select the loss function, since our problem have only 2 clases, we \n",
    "# select binary_crossentropy.\n",
    "# secondly we will select an optimizer to better calculate the weights \n",
    "# in our CNN some examples are \"Adam\", \"SGD\", \"RMSprop\", etc. \n",
    "\n",
    "model.compile(loss = 'binary_crossentropy', optimizer=\"Adam\", metrics=['accuracy'])\n",
    "\n",
    "# Indicamos cuantos poasos por epoca asi como el numero de epocas, \n",
    "# finalmente declaramos nuestro callback que nos ayudara a deter el \n",
    "# entrenamiento cuando llegemos a 95% de precision. \n",
    "# We indicate steps per epoch and total epochs to run, notice we have \n",
    "# declared our callback to stop training once we hit 95% accuracy. \n",
    "\n",
    "callbacks = myCallback()\n",
    "history = model.fit(\n",
    "            train_generator,\n",
    "            validation_data = validation_generator,\n",
    "            steps_per_epoch = 50,\n",
    "            epochs = 100,\n",
    "            validation_steps = 2,\n",
    "            verbose = 2,\n",
    "            callbacks=[callbacks])\n",
    "model.save(\"Model_C.h5\")"
   ]
  },
  {
   "cell_type": "markdown",
   "metadata": {},
   "source": [
    "Graficamos el entrenamiento de nuestra red neuronal, donde comparamos perdida, precision, perdida de entrenamiento y precision de entrenamiento durante las epocas que proceso. \n",
    "\n",
    "We plot the training process to have a visual comparison between loss, accuracy, val_loss & val_accuracy and their changes over the multiple epochs "
   ]
  },
  {
   "cell_type": "code",
   "execution_count": 8,
   "metadata": {},
   "outputs": [
    {
     "data": {
      "image/png": "[encoded data removed]",
      "text/plain": [
       "<Figure size 1000x500 with 1 Axes>"
      ]
     },
     "metadata": {},
     "output_type": "display_data"
    }
   ],
   "source": [
    "#Graficamos el entrenamiento de nuestro modelo desde la epoca 0 hasta la epoca donde se llego al 95% de precicion \n",
    "#Graph our model training history from the first epoch until we hit 95% accuracy \n",
    "\n",
    "pd.DataFrame(history.history).plot(figsize=(10,5))\n",
    "plt.grid(True)\n",
    "plt.gca().set_ylim(0,1)\n",
    "plt.show()"
   ]
  },
  {
   "cell_type": "markdown",
   "metadata": {},
   "source": [
    "Corremos preicciones con nuestro conjunto de validacion\n",
    "\n",
    "Run predictions with our test set"
   ]
  },
  {
   "cell_type": "code",
   "execution_count": 9,
   "metadata": {},
   "outputs": [
    {
     "name": "stdout",
     "output_type": "stream",
     "text": [
      "Found 798 images belonging to 2 classes.\n",
      " 1/25 [>.............................] - ETA: 3s"
     ]
    },
    {
     "name": "stderr",
     "output_type": "stream",
     "text": [
      "2022-11-27 19:58:56.844350: I tensorflow/core/grappler/optimizers/custom_graph_optimizer_registry.cc:114] Plugin optimizer for device_type GPU is enabled.\n"
     ]
    },
    {
     "name": "stdout",
     "output_type": "stream",
     "text": [
      "25/25 [==============================] - 1s 26ms/step\n"
     ]
    }
   ],
   "source": [
    "#Definimos nuestro conjunto de validacion y empezamos a predecir las imagenes de validacion con nuestro modelo entrenado \n",
    "#Define validation set and predict our validation set classes using our model \n",
    "va_datagen = ImageDataGenerator(rescale = 1./255)\n",
    "val = va_datagen.flow_from_directory( validation_dir,\n",
    "                                                          batch_size=800,\n",
    "                                                          class_mode  = 'binary', \n",
    "                                                          target_size = (150, 150))\n",
    "Xtest, ytest = next(val)\n",
    "predictions = model.predict(Xtest)\n"
   ]
  },
  {
   "cell_type": "markdown",
   "metadata": {},
   "source": [
    "Creamos una matriz de confusion para visualizar el desempeño por clase.\n",
    "\n",
    "Display a confusion matrix to visualize our 2 labels and their performance. "
   ]
  },
  {
   "cell_type": "code",
   "execution_count": 10,
   "metadata": {},
   "outputs": [
    {
     "data": {
      "text/plain": [
       "Text(113.9222222222222, 0.5, 'Actual label')"
      ]
     },
     "execution_count": 10,
     "metadata": {},
     "output_type": "execute_result"
    },
    {
     "data": {
      "image/png": "[encoded data removed]",
      "text/plain": [
       "<Figure size 640x480 with 1 Axes>"
      ]
     },
     "metadata": {},
     "output_type": "display_data"
    }
   ],
   "source": [
    "#Convertimos la probabilidad a clases, si es menor que 0.5 es clase 0, si es mayor a 0.5 es clase 1 \n",
    "#convert to class 1 or 0 based on the probability obtained if more than 0.5 is 1, less than 0.5 is 0 \n",
    "y_predicted = np.where(predictions > 0.5, 1, 0)\n",
    "#creamos la matriz de confusion \n",
    "#built confusion matrix\n",
    "cm = confusion_matrix(ytest, y_predicted)\n",
    "#normalizamos la matrix para obtener porcentajes \n",
    "#normalize our confusion matrix\n",
    "cm = cm.astype('float') / cm.sum(axis=1)[:, np.newaxis]\n",
    "#visualizamos al amtriz usando seaborn heatmap \n",
    "#plot the confusion matrix using seaborn \n",
    "labels = val.class_indices.keys()\n",
    "sns.heatmap(cm, square=True, annot=True, fmt='.2%',  cbar=False, cmap='Blues',\n",
    "            xticklabels=labels, yticklabels=labels)\n",
    "plt.xlabel('Predicted label')\n",
    "plt.ylabel('Actual label')"
   ]
  },
  {
   "cell_type": "markdown",
   "metadata": {},
   "source": [
    "Mostramos precision recall y f1-score obtenido por nuestro modelo. \n",
    "\n",
    "Show key metrics of our model."
   ]
  },
  {
   "cell_type": "code",
   "execution_count": 11,
   "metadata": {},
   "outputs": [
    {
     "name": "stdout",
     "output_type": "stream",
     "text": [
      "              precision    recall  f1-score   support\n",
      "\n",
      "       Empty       0.99      0.74      0.85       399\n",
      "      Infant       0.79      0.99      0.88       399\n",
      "\n",
      "    accuracy                           0.87       798\n",
      "   macro avg       0.89      0.87      0.86       798\n",
      "weighted avg       0.89      0.87      0.86       798\n",
      "\n"
     ]
    }
   ],
   "source": [
    "#obtenemos las metricas de nuestro modelo \n",
    "#print key metrics from our model \n",
    "print(classification_report(ytest, (y_predicted),target_names=val.class_indices.keys()))"
   ]
  }
 ],
 "metadata": {
  "colab": {
   "name": "3. CNN Transfer Learning.ipynb",
   "provenance": []
  },
  "kernelspec": {
   "display_name": "Python 3.10.8 ('DNL')",
   "language": "python",
   "name": "python3"
  },
  "language_info": {
   "codemirror_mode": {
    "name": "ipython",
    "version": 3
   },
   "file_extension": ".py",
   "mimetype": "text/x-python",
   "name": "python",
   "nbconvert_exporter": "python",
   "pygments_lexer": "ipython3",
   "version": "3.10.8"
  },
  "vscode": {
   "interpreter": {
    "hash": "1efc205305d450ac2a801413bdf4b10505a118a37f6c981dbbda97e1b056ee7d"
   }
  }
 },
 "nbformat": 4,
 "nbformat_minor": 1
}
